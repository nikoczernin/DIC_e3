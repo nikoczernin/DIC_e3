{
 "cells": [
  {
   "cell_type": "code",
   "execution_count": 5,
   "id": "04a33b48",
   "metadata": {},
   "outputs": [],
   "source": [
    "import pandas as pd"
   ]
  },
  {
   "cell_type": "code",
   "execution_count": 2,
   "id": "aba8360b",
   "metadata": {},
   "outputs": [
    {
     "name": "stdout",
     "output_type": "stream",
     "text": [
      "AWS.py                     aws_experiment_results.csv\r\n",
      "AWS_api.py                 client.py\r\n",
      "README.md                  \u001B[34minput_folder\u001B[m\u001B[m\r\n",
      "YOLO_AWS_experiment.py     \u001B[34mlambda_function\u001B[m\u001B[m\r\n",
      "\u001B[34manalysis_time_data\u001B[m\u001B[m         \u001B[34mpython\u001B[m\u001B[m\r\n",
      "analyze_aws_data.ipynb     requirements.txt\r\n",
      "app.py                     uploaded_aws_data.json\r\n"
     ]
    }
   ],
   "source": [
    "!ls"
   ]
  },
  {
   "cell_type": "code",
   "execution_count": 27,
   "id": "ca679a14",
   "metadata": {},
   "outputs": [
    {
     "data": {
      "text/html": [
       "<div>\n",
       "<style scoped>\n",
       "    .dataframe tbody tr th:only-of-type {\n",
       "        vertical-align: middle;\n",
       "    }\n",
       "\n",
       "    .dataframe tbody tr th {\n",
       "        vertical-align: top;\n",
       "    }\n",
       "\n",
       "    .dataframe thead th {\n",
       "        text-align: right;\n",
       "    }\n",
       "</style>\n",
       "<table border=\"1\" class=\"dataframe\">\n",
       "  <thead>\n",
       "    <tr style=\"text-align: right;\">\n",
       "      <th></th>\n",
       "      <th>Unnamed: 0</th>\n",
       "      <th>Confidences</th>\n",
       "      <th>InferenceTime</th>\n",
       "      <th>Filename</th>\n",
       "      <th>id</th>\n",
       "      <th>ImagePath</th>\n",
       "      <th>Objects</th>\n",
       "      <th>TransferTime</th>\n",
       "      <th>FileSize</th>\n",
       "    </tr>\n",
       "  </thead>\n",
       "  <tbody>\n",
       "    <tr>\n",
       "      <th>0</th>\n",
       "      <td>0</td>\n",
       "      <td>[0.35353294014930725]</td>\n",
       "      <td>0.533346</td>\n",
       "      <td>000000000205.jpg_2</td>\n",
       "      <td>61b4a0d1-4da4-494d-985d-77915c4e6f81</td>\n",
       "      <td>https://yolobuck.s3.amazonaws.com/000000000205...</td>\n",
       "      <td>['fork']</td>\n",
       "      <td>0.467365</td>\n",
       "      <td>224928</td>\n",
       "    </tr>\n",
       "    <tr>\n",
       "      <th>1</th>\n",
       "      <td>1</td>\n",
       "      <td>[0.8319811820983887]</td>\n",
       "      <td>0.428419</td>\n",
       "      <td>000000003104.jpg_9</td>\n",
       "      <td>546fbd3a-c771-4b35-a66f-a165f50a827b</td>\n",
       "      <td>https://yolobuck.s3.amazonaws.com/000000003104...</td>\n",
       "      <td>['clock']</td>\n",
       "      <td>0.547593</td>\n",
       "      <td>176629</td>\n",
       "    </tr>\n",
       "    <tr>\n",
       "      <th>2</th>\n",
       "      <td>2</td>\n",
       "      <td>[0.9681352376937866, 0.6060641407966614]</td>\n",
       "      <td>0.455579</td>\n",
       "      <td>000000001097.jpg_9</td>\n",
       "      <td>f0447d91-c6a1-4d16-9c7e-dea3fc97d11d</td>\n",
       "      <td>https://yolobuck.s3.amazonaws.com/000000001097...</td>\n",
       "      <td>['sports ball', 'tennis racket']</td>\n",
       "      <td>0.463821</td>\n",
       "      <td>77402</td>\n",
       "    </tr>\n",
       "    <tr>\n",
       "      <th>3</th>\n",
       "      <td>3</td>\n",
       "      <td>[0.6213908195495605, 0.3581955134868622]</td>\n",
       "      <td>0.402094</td>\n",
       "      <td>000000003111.jpg_7</td>\n",
       "      <td>0b49986d-4e4f-4b52-af5c-fe81567c62e7</td>\n",
       "      <td>https://yolobuck.s3.amazonaws.com/000000003111...</td>\n",
       "      <td>['kite', 'person']</td>\n",
       "      <td>0.393087</td>\n",
       "      <td>112271</td>\n",
       "    </tr>\n",
       "    <tr>\n",
       "      <th>4</th>\n",
       "      <td>4</td>\n",
       "      <td>[0.9558994770050049]</td>\n",
       "      <td>0.457835</td>\n",
       "      <td>000000000128.jpg_2</td>\n",
       "      <td>12646514-aac7-4892-a68c-57ba886caa26</td>\n",
       "      <td>https://yolobuck.s3.amazonaws.com/000000000128...</td>\n",
       "      <td>['elephant']</td>\n",
       "      <td>0.897599</td>\n",
       "      <td>212272</td>\n",
       "    </tr>\n",
       "    <tr>\n",
       "      <th>...</th>\n",
       "      <td>...</td>\n",
       "      <td>...</td>\n",
       "      <td>...</td>\n",
       "      <td>...</td>\n",
       "      <td>...</td>\n",
       "      <td>...</td>\n",
       "      <td>...</td>\n",
       "      <td>...</td>\n",
       "      <td>...</td>\n",
       "    </tr>\n",
       "    <tr>\n",
       "      <th>865</th>\n",
       "      <td>865</td>\n",
       "      <td>[0.8680473566055298, 0.4071866571903229]</td>\n",
       "      <td>0.430071</td>\n",
       "      <td>000000001175.jpg_2</td>\n",
       "      <td>ab3b5526-26ff-421a-a933-8e1583835d77</td>\n",
       "      <td>https://yolobuck.s3.amazonaws.com/000000001175...</td>\n",
       "      <td>['person', 'tvmonitor']</td>\n",
       "      <td>0.408168</td>\n",
       "      <td>68652</td>\n",
       "    </tr>\n",
       "    <tr>\n",
       "      <th>866</th>\n",
       "      <td>866</td>\n",
       "      <td>[0.9318885207176208]</td>\n",
       "      <td>0.374991</td>\n",
       "      <td>000000000968.jpg_7</td>\n",
       "      <td>259122d3-51ae-49d4-8fbc-e464ce72aa4a</td>\n",
       "      <td>https://yolobuck.s3.amazonaws.com/000000000968...</td>\n",
       "      <td>['cat']</td>\n",
       "      <td>0.502375</td>\n",
       "      <td>115530</td>\n",
       "    </tr>\n",
       "    <tr>\n",
       "      <th>867</th>\n",
       "      <td>867</td>\n",
       "      <td>[0.8373032808303833]</td>\n",
       "      <td>0.418007</td>\n",
       "      <td>000000003136.jpg_1</td>\n",
       "      <td>3ed62ac7-de23-4654-87db-b166dd233017</td>\n",
       "      <td>https://yolobuck.s3.amazonaws.com/000000003136...</td>\n",
       "      <td>['person']</td>\n",
       "      <td>0.527038</td>\n",
       "      <td>178408</td>\n",
       "    </tr>\n",
       "    <tr>\n",
       "      <th>868</th>\n",
       "      <td>868</td>\n",
       "      <td>[0.35353294014930725]</td>\n",
       "      <td>0.455207</td>\n",
       "      <td>000000000205.jpg_1</td>\n",
       "      <td>d0bbecc7-97b5-40df-8c6b-2725c2ddb116</td>\n",
       "      <td>https://yolobuck.s3.amazonaws.com/000000000205...</td>\n",
       "      <td>['fork']</td>\n",
       "      <td>0.435102</td>\n",
       "      <td>224928</td>\n",
       "    </tr>\n",
       "    <tr>\n",
       "      <th>869</th>\n",
       "      <td>869</td>\n",
       "      <td>[0.5437290668487549, 0.35449016094207764]</td>\n",
       "      <td>0.466205</td>\n",
       "      <td>000000001192.jpg_7</td>\n",
       "      <td>c234807b-e18a-4a4c-85b8-977b130bf530</td>\n",
       "      <td>https://yolobuck.s3.amazonaws.com/000000001192...</td>\n",
       "      <td>['chair', 'dog']</td>\n",
       "      <td>0.745702</td>\n",
       "      <td>273119</td>\n",
       "    </tr>\n",
       "  </tbody>\n",
       "</table>\n",
       "<p>870 rows × 9 columns</p>\n",
       "</div>"
      ],
      "text/plain": [
       "     Unnamed: 0                                Confidences  InferenceTime  \\\n",
       "0             0                      [0.35353294014930725]       0.533346   \n",
       "1             1                       [0.8319811820983887]       0.428419   \n",
       "2             2   [0.9681352376937866, 0.6060641407966614]       0.455579   \n",
       "3             3   [0.6213908195495605, 0.3581955134868622]       0.402094   \n",
       "4             4                       [0.9558994770050049]       0.457835   \n",
       "..          ...                                        ...            ...   \n",
       "865         865   [0.8680473566055298, 0.4071866571903229]       0.430071   \n",
       "866         866                       [0.9318885207176208]       0.374991   \n",
       "867         867                       [0.8373032808303833]       0.418007   \n",
       "868         868                      [0.35353294014930725]       0.455207   \n",
       "869         869  [0.5437290668487549, 0.35449016094207764]       0.466205   \n",
       "\n",
       "               Filename                                    id  \\\n",
       "0    000000000205.jpg_2  61b4a0d1-4da4-494d-985d-77915c4e6f81   \n",
       "1    000000003104.jpg_9  546fbd3a-c771-4b35-a66f-a165f50a827b   \n",
       "2    000000001097.jpg_9  f0447d91-c6a1-4d16-9c7e-dea3fc97d11d   \n",
       "3    000000003111.jpg_7  0b49986d-4e4f-4b52-af5c-fe81567c62e7   \n",
       "4    000000000128.jpg_2  12646514-aac7-4892-a68c-57ba886caa26   \n",
       "..                  ...                                   ...   \n",
       "865  000000001175.jpg_2  ab3b5526-26ff-421a-a933-8e1583835d77   \n",
       "866  000000000968.jpg_7  259122d3-51ae-49d4-8fbc-e464ce72aa4a   \n",
       "867  000000003136.jpg_1  3ed62ac7-de23-4654-87db-b166dd233017   \n",
       "868  000000000205.jpg_1  d0bbecc7-97b5-40df-8c6b-2725c2ddb116   \n",
       "869  000000001192.jpg_7  c234807b-e18a-4a4c-85b8-977b130bf530   \n",
       "\n",
       "                                             ImagePath  \\\n",
       "0    https://yolobuck.s3.amazonaws.com/000000000205...   \n",
       "1    https://yolobuck.s3.amazonaws.com/000000003104...   \n",
       "2    https://yolobuck.s3.amazonaws.com/000000001097...   \n",
       "3    https://yolobuck.s3.amazonaws.com/000000003111...   \n",
       "4    https://yolobuck.s3.amazonaws.com/000000000128...   \n",
       "..                                                 ...   \n",
       "865  https://yolobuck.s3.amazonaws.com/000000001175...   \n",
       "866  https://yolobuck.s3.amazonaws.com/000000000968...   \n",
       "867  https://yolobuck.s3.amazonaws.com/000000003136...   \n",
       "868  https://yolobuck.s3.amazonaws.com/000000000205...   \n",
       "869  https://yolobuck.s3.amazonaws.com/000000001192...   \n",
       "\n",
       "                              Objects  TransferTime  FileSize  \n",
       "0                            ['fork']      0.467365    224928  \n",
       "1                           ['clock']      0.547593    176629  \n",
       "2    ['sports ball', 'tennis racket']      0.463821     77402  \n",
       "3                  ['kite', 'person']      0.393087    112271  \n",
       "4                        ['elephant']      0.897599    212272  \n",
       "..                                ...           ...       ...  \n",
       "865           ['person', 'tvmonitor']      0.408168     68652  \n",
       "866                           ['cat']      0.502375    115530  \n",
       "867                        ['person']      0.527038    178408  \n",
       "868                          ['fork']      0.435102    224928  \n",
       "869                  ['chair', 'dog']      0.745702    273119  \n",
       "\n",
       "[870 rows x 9 columns]"
      ]
     },
     "execution_count": 27,
     "metadata": {},
     "output_type": "execute_result"
    }
   ],
   "source": [
    "df = pd.read_csv(\"output/aws/aws_experiment_results_1000.csv\")\n",
    "df"
   ]
  },
  {
   "cell_type": "code",
   "execution_count": 24,
   "id": "f3321d9a",
   "metadata": {},
   "outputs": [
    {
     "data": {
      "text/plain": [
       "0.45432"
      ]
     },
     "execution_count": 24,
     "metadata": {},
     "output_type": "execute_result"
    }
   ],
   "source": [
    "round(df.InferenceTime.quantile(.5), 5)"
   ]
  },
  {
   "cell_type": "code",
   "execution_count": 26,
   "id": "a3760d5a-f022-40e5-9b0f-4b5729db11dd",
   "metadata": {},
   "outputs": [
    {
     "data": {
      "text/plain": [
       "0.20282"
      ]
     },
     "execution_count": 26,
     "metadata": {},
     "output_type": "execute_result"
    }
   ],
   "source": [
    "round(df.InferenceTime.std(), 5)"
   ]
  },
  {
   "cell_type": "code",
   "execution_count": 32,
   "id": "86ac5c08-1b91-4415-805e-6d64f991b835",
   "metadata": {},
   "outputs": [
    {
     "name": "stdout",
     "output_type": "stream",
     "text": [
      "0.44032\n",
      "0.06285\n",
      "0.43862\n",
      "0.4167\n",
      "0.43862\n",
      "0.45941\n",
      "1.2784\n"
     ]
    }
   ],
   "source": [
    "print(round(df.InferenceTime.mean(), 5))\n",
    "print(round(df.InferenceTime.std(), 5))\n",
    "print(round(df.InferenceTime.quantile(), 5))\n",
    "print(round(df.InferenceTime.quantile(.25), 5))\n",
    "print(round(df.InferenceTime.quantile(.5), 5))\n",
    "print(round(df.InferenceTime.quantile(.75), 5))\n",
    "print(round(df.InferenceTime.quantile(1), 5))"
   ]
  },
  {
   "cell_type": "code",
   "execution_count": 31,
   "id": "999d9383-8536-4a88-ad18-69c49d2a16b7",
   "metadata": {},
   "outputs": [
    {
     "name": "stdout",
     "output_type": "stream",
     "text": [
      "0.63925\n",
      "0.34431\n",
      "0.52433\n",
      "0.43561\n",
      "0.52433\n",
      "0.69023\n",
      "3.27909\n"
     ]
    }
   ],
   "source": [
    "print(round(df.TransferTime.mean(), 5))\n",
    "print(round(df.TransferTime.std(), 5))\n",
    "print(round(df.TransferTime.quantile(), 5))\n",
    "print(round(df.TransferTime.quantile(.25), 5))\n",
    "print(round(df.TransferTime.quantile(.5), 5))\n",
    "print(round(df.TransferTime.quantile(.75), 5))\n",
    "print(round(df.TransferTime.quantile(1), 5))"
   ]
  },
  {
   "cell_type": "code",
   "execution_count": null,
   "id": "4d5652f6-2733-4f49-8138-2fe059d96776",
   "metadata": {},
   "outputs": [],
   "source": []
  }
 ],
 "metadata": {
  "kernelspec": {
   "display_name": "Python 3 (ipykernel)",
   "language": "python",
   "name": "python3"
  },
  "language_info": {
   "codemirror_mode": {
    "name": "ipython",
    "version": 3
   },
   "file_extension": ".py",
   "mimetype": "text/x-python",
   "name": "python",
   "nbconvert_exporter": "python",
   "pygments_lexer": "ipython3",
   "version": "3.9.13"
  }
 },
 "nbformat": 4,
 "nbformat_minor": 5
}